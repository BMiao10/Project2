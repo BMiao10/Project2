{
 "cells": [
  {
   "cell_type": "code",
   "execution_count": 4,
   "metadata": {},
   "outputs": [],
   "source": [
    "import numpy as np\n",
    "import pandas as pd\n",
    "import seaborn as sns\n",
    "import matplotlib.pyplot as plt\n",
    "from sklearn import metrics\n",
    "import math\n",
    "import random\n",
    "import umap\n",
    "from clusters import algs\n",
    "\n",
    "# from clusters import algs\n",
    "# TODO: add to requirements\n",
    "\n",
    "sns.set_style(\"ticks\")\n",
    "sns.set_context(\"talk\")\n",
    "\n"
   ]
  },
  {
   "cell_type": "code",
   "execution_count": 5,
   "metadata": {},
   "outputs": [],
   "source": [
    "def test_partitioning():\n",
    "    \n",
    "    # read in the ligands\n",
    "    ligands = algs.readLigands(\"./ligand_information.csv\", n=2)\n",
    "    \n",
    "    # Select some ligands for testing\n",
    "    # 0 and 1 do not share any onbits so can be used to create artificial test cases\n",
    "    ligand1 = ligands[0]\n",
    "    ligand2 = ligands[1]\n",
    "    ligand_subs = [ligand1, ligand2, ligand1, ligand2]\n",
    "    \n",
    "    # Create clustering object with k=2\n",
    "    # Since we know these should be grouped into 2 groups\n",
    "    part = algs.PartitionClustering(k=2)\n",
    "    \n",
    "    # check that k has been initialized correctly\n",
    "    assert(part.k == 2)\n",
    "\n",
    "    # get cluster results\n",
    "    labels = part.cluster(ligand_subs, preprocess=algs.preprocessLigands)\n",
    "    \n",
    "    # test that identical objects are grouped together\n",
    "    assert(labels[0] == labels[2])\n",
    "    assert(labels[1] == labels[3])\n",
    "    \n",
    "    # test that non-identical objects are in separte clusters\n",
    "    assert(labels[0] != labels[1])\n",
    "    assert(labels[0] != labels[3])\n",
    "    \n",
    "    # update k \n",
    "    part.k = 3\n",
    "    \n",
    "    # get cluster results\n",
    "    labels = part.cluster(ligand_subs, preprocess=algs.preprocessLigands)\n",
    "\n",
    "    # test all clusters have at least one sample, even if not optimal\n",
    "    assert(len(np.where(labels == 0)) > 0)\n",
    "    assert(len(np.where(labels == 1)) > 0)\n",
    "    assert(len(np.where(labels == 2)) > 0)\n",
    "    \n",
    "    "
   ]
  },
  {
   "cell_type": "code",
   "execution_count": 3,
   "metadata": {},
   "outputs": [
    {
     "name": "stderr",
     "output_type": "stream",
     "text": [
      "/Users/bmiao/Desktop/Classes/BMI203/Project2/clusters/algs.py:165: RuntimeWarning: invalid value encountered in true_divide\n",
      "  prob = prob / prob.sum()\n"
     ]
    },
    {
     "ename": "ValueError",
     "evalue": "probabilities contain NaN",
     "output_type": "error",
     "traceback": [
      "\u001b[0;31m---------------------------------------------------------------------------\u001b[0m",
      "\u001b[0;31mValueError\u001b[0m                                Traceback (most recent call last)",
      "\u001b[0;32m<ipython-input-3-51fe65815ba9>\u001b[0m in \u001b[0;36m<module>\u001b[0;34m\u001b[0m\n\u001b[0;32m----> 1\u001b[0;31m \u001b[0mtest_partitioning\u001b[0m\u001b[0;34m(\u001b[0m\u001b[0;34m)\u001b[0m\u001b[0;34m\u001b[0m\u001b[0;34m\u001b[0m\u001b[0m\n\u001b[0m",
      "\u001b[0;32m<ipython-input-2-8a5db6a6f2aa>\u001b[0m in \u001b[0;36mtest_partitioning\u001b[0;34m()\u001b[0m\n\u001b[1;32m     32\u001b[0m \u001b[0;34m\u001b[0m\u001b[0m\n\u001b[1;32m     33\u001b[0m     \u001b[0;31m# get cluster results\u001b[0m\u001b[0;34m\u001b[0m\u001b[0;34m\u001b[0m\u001b[0;34m\u001b[0m\u001b[0m\n\u001b[0;32m---> 34\u001b[0;31m     \u001b[0mlabels\u001b[0m \u001b[0;34m=\u001b[0m \u001b[0mpart\u001b[0m\u001b[0;34m.\u001b[0m\u001b[0mcluster\u001b[0m\u001b[0;34m(\u001b[0m\u001b[0mligand_subs\u001b[0m\u001b[0;34m,\u001b[0m \u001b[0mpreprocess\u001b[0m\u001b[0;34m=\u001b[0m\u001b[0malgs\u001b[0m\u001b[0;34m.\u001b[0m\u001b[0mpreprocessLigands\u001b[0m\u001b[0;34m)\u001b[0m\u001b[0;34m\u001b[0m\u001b[0;34m\u001b[0m\u001b[0m\n\u001b[0m\u001b[1;32m     35\u001b[0m \u001b[0;34m\u001b[0m\u001b[0m\n\u001b[1;32m     36\u001b[0m     \u001b[0;31m# test all clusters have at least one sample, even if not optimal\u001b[0m\u001b[0;34m\u001b[0m\u001b[0;34m\u001b[0m\u001b[0;34m\u001b[0m\u001b[0m\n",
      "\u001b[0;32m~/Desktop/Classes/BMI203/Project2/clusters/algs.py\u001b[0m in \u001b[0;36mcluster\u001b[0;34m(self, samples, max_iter, dist_met, preprocess)\u001b[0m\n\u001b[1;32m    166\u001b[0m \u001b[0;34m\u001b[0m\u001b[0m\n\u001b[1;32m    167\u001b[0m             \u001b[0;31m# Draw a random choice based on the probabilities\u001b[0m\u001b[0;34m\u001b[0m\u001b[0;34m\u001b[0m\u001b[0;34m\u001b[0m\u001b[0m\n\u001b[0;32m--> 168\u001b[0;31m             \u001b[0mchoice\u001b[0m \u001b[0;34m=\u001b[0m \u001b[0mnp\u001b[0m\u001b[0;34m.\u001b[0m\u001b[0mrandom\u001b[0m\u001b[0;34m.\u001b[0m\u001b[0mchoice\u001b[0m\u001b[0;34m(\u001b[0m\u001b[0mrange\u001b[0m\u001b[0;34m(\u001b[0m\u001b[0mlen\u001b[0m\u001b[0;34m(\u001b[0m\u001b[0mcent_samples\u001b[0m\u001b[0;34m)\u001b[0m\u001b[0;34m)\u001b[0m\u001b[0;34m,\u001b[0m \u001b[0;36m1\u001b[0m\u001b[0;34m,\u001b[0m \u001b[0mp\u001b[0m\u001b[0;34m=\u001b[0m\u001b[0mprob\u001b[0m\u001b[0;34m)\u001b[0m\u001b[0;34m\u001b[0m\u001b[0;34m\u001b[0m\u001b[0m\n\u001b[0m\u001b[1;32m    169\u001b[0m \u001b[0;34m\u001b[0m\u001b[0m\n\u001b[1;32m    170\u001b[0m             \u001b[0;31m# Add the random choice of sample to centroids and remove it from further consideration\u001b[0m\u001b[0;34m\u001b[0m\u001b[0;34m\u001b[0m\u001b[0;34m\u001b[0m\u001b[0m\n",
      "\u001b[0;32mmtrand.pyx\u001b[0m in \u001b[0;36mnumpy.random.mtrand.RandomState.choice\u001b[0;34m()\u001b[0m\n",
      "\u001b[0;31mValueError\u001b[0m: probabilities contain NaN"
     ]
    }
   ],
   "source": [
    "test_partitioning()\n"
   ]
  },
  {
   "cell_type": "code",
   "execution_count": null,
   "metadata": {},
   "outputs": [],
   "source": [
    "np.where(on == 1)[0]"
   ]
  },
  {
   "cell_type": "code",
   "execution_count": null,
   "metadata": {
    "scrolled": true
   },
   "outputs": [],
   "source": [
    "# read in the ligands\n",
    "ligands = algs.readLigands(\"./ligand_information.csv\")\n",
    "\n",
    "# subset the ligands (selection without replacement) to use for hierarchical clustering\n",
    "random.seed(3)\n",
    "subset_ind = random.sample(range(len(ligands)), 1000)\n",
    "ligands_subs = [ligands[i] for i in subset_ind]\n",
    "\n",
    "# extract values to np.array\n",
    "onbits = algs.preprocessLigands(ligands_subs)\n",
    "\n",
    "# create UMAP object and apply transformation to sample values\n",
    "reducer = umap.UMAP(min_dist=0.3, n_neighbors=30)\n",
    "embedding = reducer.fit_transform(onbits)\n",
    "\n",
    "# store umap data in dataframe\n",
    "embed_df = pd.DataFrame(embedding)\n",
    "embed_df.columns = [\"UMAP1\", \"UMAP2\"]\n",
    "\n",
    "# Get the partition clustering results for k = TODO\n",
    "results = np.load(\"./output/hier_1000subset_results.npy\")\n",
    "embed_df[\"cluster\"] = results[1]\n",
    "embed_df = embed_df.sort_values(\"cluster\")\n",
    "embed_df[\"cluster\"] = embed_df[\"cluster\"].astype(int).astype(str)\n",
    "\n",
    "# plot\n",
    "fig, ax = plt.subplots(figsize=(10,10))\n",
    "sns_plot = sns.scatterplot(data = embed_df, x=\"UMAP1\", y=\"UMAP2\", hue=\"cluster\", legend=True)\n",
    "plt.legend(bbox_to_anchor=(1.05, 1), loc=2, borderaxespad=0.)\n",
    "\n",
    "# save figure\n",
    "fig = sns_plot.get_figure()\n",
    "fig.savefig(\"./output/Q5-UMAP_hierarchical.png\") \n",
    "\n"
   ]
  },
  {
   "cell_type": "code",
   "execution_count": null,
   "metadata": {},
   "outputs": [],
   "source": [
    "# read in the ligands and extract values to np.array\n",
    "ligands = algs.readLigands(\"./ligand_information.csv\")\n",
    "onbits = algs.preprocessLigands(ligands)\n",
    "\n",
    "# create UMAP object and apply transformation to sample values\n",
    "reducer = umap.UMAP(min_dist=0.3, n_neighbors=30)\n",
    "embedding = reducer.fit_transform(onbits)\n",
    "\n",
    "# store umap data in dataframe\n",
    "embed_df = pd.DataFrame(embedding)\n",
    "embed_df.columns = [\"UMAP1\", \"UMAP2\"]\n",
    "\n",
    "# Get the partition clustering results for k = 4\n",
    "results = np.load(\"./output/partition_results.npy\")\n",
    "embed_df[\"cluster\"] = results[5]\n",
    "embed_df = embed_df.sort_values(\"cluster\")\n",
    "embed_df[\"cluster\"] = embed_df[\"cluster\"].astype(int).astype(str)\n",
    "\n",
    "# plot\n",
    "fig, ax = plt.subplots(figsize=(10,10))\n",
    "sns_plot = sns.scatterplot(data = embed_df, x=\"UMAP1\", y=\"UMAP2\", hue=\"cluster\", legend=True)\n",
    "plt.legend(bbox_to_anchor=(1.0, 1), loc=2, borderaxespad=0.)\n",
    "\n",
    "# save figure\n",
    "fig = sns_plot.get_figure()\n",
    "#fig.savefig(\"./output/Q3-UMAP_partition.png\") \n",
    "\n"
   ]
  },
  {
   "cell_type": "code",
   "execution_count": null,
   "metadata": {},
   "outputs": [],
   "source": [
    "\n",
    "plt.scatter(embedding[:, 0], embedding[:, 1])\n"
   ]
  },
  {
   "cell_type": "code",
   "execution_count": null,
   "metadata": {},
   "outputs": [],
   "source": [
    "embedding"
   ]
  },
  {
   "cell_type": "code",
   "execution_count": null,
   "metadata": {},
   "outputs": [],
   "source": []
  },
  {
   "cell_type": "code",
   "execution_count": null,
   "metadata": {},
   "outputs": [],
   "source": []
  }
 ],
 "metadata": {
  "kernelspec": {
   "display_name": "Python 3",
   "language": "python",
   "name": "python3"
  },
  "language_info": {
   "codemirror_mode": {
    "name": "ipython",
    "version": 3
   },
   "file_extension": ".py",
   "mimetype": "text/x-python",
   "name": "python",
   "nbconvert_exporter": "python",
   "pygments_lexer": "ipython3",
   "version": "3.8.5"
  }
 },
 "nbformat": 4,
 "nbformat_minor": 4
}
